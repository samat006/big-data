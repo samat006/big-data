{
 "cells": [
  {
   "cell_type": "code",
   "execution_count": 2,
   "id": "ab6dd7a0",
   "metadata": {},
   "outputs": [
    {
     "name": "stderr",
     "output_type": "stream",
     "text": [
      "23/05/26 21:48:13 WARN Utils: Your hostname, macs-MacBook-Pro-a2s.local resolves to a loopback address: 127.0.0.1; using 192.168.43.57 instead (on interface en0)\n",
      "23/05/26 21:48:13 WARN Utils: Set SPARK_LOCAL_IP if you need to bind to another address\n",
      "Setting default log level to \"WARN\".\n",
      "To adjust logging level use sc.setLogLevel(newLevel). For SparkR, use setLogLevel(newLevel).\n",
      "23/05/26 21:48:14 WARN NativeCodeLoader: Unable to load native-hadoop library for your platform... using builtin-java classes where applicable\n"
     ]
    }
   ],
   "source": [
    "from pyspark.sql import SparkSession\n",
    "\n",
    "# Create a SparkSession\n",
    "spark = SparkSession.builder \\\n",
    "    .appName(\"Projet Spark\") \\\n",
    "    .config(\"spark.ui.port\", \"0\") \\\n",
    "    .master(\"local[*]\") \\\n",
    "    .getOrCreate()\n"
   ]
  },
  {
   "cell_type": "code",
   "execution_count": 3,
   "id": "55a18e7b",
   "metadata": {},
   "outputs": [],
   "source": [
    "eventsPath = \"/Users/mac/big-data/events.json\"\n"
   ]
  },
  {
   "cell_type": "code",
   "execution_count": 4,
   "id": "7353befa",
   "metadata": {},
   "outputs": [
    {
     "name": "stderr",
     "output_type": "stream",
     "text": [
      "                                                                                \r"
     ]
    },
    {
     "name": "stdout",
     "output_type": "stream",
     "text": [
      "+-------+------------------+----------+------------------------+----------------+--------------------+--------------------+--------------+--------------------------+-----------------+\n",
      "| device|         ecommerce|event_name|event_previous_timestamp| event_timestamp|                 geo|               items|traffic_source|user_first_touch_timestamp|          user_id|\n",
      "+-------+------------------+----------+------------------------+----------------+--------------------+--------------------+--------------+--------------------------+-----------------+\n",
      "|  macOS|{null, null, null}|  warranty|        1593878899217692|1593878946592107|      {Montrose, MI}|                  []|        google|          1593878899217692|UA000000107379500|\n",
      "|Windows|{null, null, null}|     press|        1593876662175340|1593877011756535|   {Northampton, MA}|                  []|        google|          1593876662175340|UA000000107359357|\n",
      "|  macOS|{null, null, null}|  add_item|        1593878792892652|1593878815459100|       {Salinas, CA}|[{null, M_STAN_T,...|       youtube|          1593878455472030|UA000000107375547|\n",
      "|    iOS|{null, null, null}|mattresses|        1593878178791663|1593878809276923|       {Everett, MA}|                  []|      facebook|          1593877903116176|UA000000107370581|\n",
      "|Windows|{null, null, null}|mattresses|                    null|1593878628143633| {Cottage Grove, MN}|                  []|        google|          1593878628143633|UA000000107377108|\n",
      "|Windows|{null, null, null}|      main|                    null|1593878634344194|        {Medina, MN}|                  []|       youtube|          1593878634344194|UA000000107377161|\n",
      "|    iOS|{null, null, null}|      main|                    null|1593877936171803|{Mount Pleasant, UT}|                  []|        direct|          1593877936171803|UA000000107370851|\n",
      "|  macOS|{null, null, null}|      main|                    null|1593876843215329|      {Piedmont, AL}|                  []|     instagram|          1593876843215329|UA000000107360961|\n",
      "|Android|{null, null, null}|  warranty|        1593878529774474|1593879213196400|{Rancho Santa Mar...|                  []|     instagram|          1593878529774474|UA000000107376205|\n",
      "|Windows|{null, null, null}|      main|                    null|1593876713246514|        {Elyria, OH}|                  []|      facebook|          1593876713246514|UA000000107359805|\n",
      "|    iOS|{null, null, null}|  original|        1593878068949001|1593878170903989|      {Longview, WA}|                  []|        google|          1593877826716812|UA000000107369909|\n",
      "|  Linux|{null, null, null}|      main|                    null|1593878036347579|     {Lyndhurst, OH}|                  []|        direct|          1593878036347579|UA000000107371743|\n",
      "|Android|{null, null, null}|      down|        1593879057792999|1593879125815755|       {Jackson, MO}|                  []|      facebook|          1593879057792999|UA000000107380961|\n",
      "|  Linux|{null, null, null}|      main|                    null|1593878672173087|  {Cedar Rapids, IA}|                  []|        google|          1593878672173087|UA000000107377487|\n",
      "|  macOS|{null, null, null}|      main|                    null|1593876429415452|       {Phoenix, AZ}|                  []|        google|          1593876429415452|UA000000107357350|\n",
      "|    iOS|{null, null, null}|mattresses|                    null|1593876687337581|       {Warwick, RI}|                  []|        google|          1593876687337581|UA000000107359573|\n",
      "|  macOS|{null, null, null}|   premium|        1593877223736871|1593877973962436|       {Everett, WA}|                  []|     instagram|          1593877223736871|UA000000107364368|\n",
      "|Windows|{null, null, null}|   reviews|        1593876442432487|1593876944661570|       {Concord, CA}|                  []|        direct|          1593876442432487|UA000000107357467|\n",
      "|    iOS|{null, null, null}|  original|        1593877781854634|1593877788141768|      {Dunwoody, GA}|                  []|        google|          1593877781854634|UA000000107369512|\n",
      "|    iOS|{null, null, null}|      main|        1593877445670953|1593877497207417|     {Rochester, MN}|                  []|      facebook|          1593877300577217|UA000000107365065|\n",
      "+-------+------------------+----------+------------------------+----------------+--------------------+--------------------+--------------+--------------------------+-----------------+\n",
      "only showing top 20 rows\n",
      "\n"
     ]
    }
   ],
   "source": [
    "\n",
    "eventsDF = spark.read.json(eventsPath)\n",
    "\n",
    "# Display the DataFrame\n",
    "eventsDF.show()"
   ]
  },
  {
   "cell_type": "raw",
   "id": "f6a0a46f",
   "metadata": {},
   "source": [
    "# 1. Extraire les revenus d'achat pour chaque événement"
   ]
  },
  {
   "cell_type": "code",
   "execution_count": 10,
   "id": "3dbc9384",
   "metadata": {},
   "outputs": [
    {
     "name": "stdout",
     "output_type": "stream",
     "text": [
      "+---------+------------------+----------+------------------------+----------------+------------------+--------+--------------------+------+--------+--------------+--------------------------+-----------------+\n",
      "|   device|         ecommerce|event_name|event_previous_timestamp| event_timestamp|               geo| item_id|           item_name| price|quantity|traffic_source|user_first_touch_timestamp|          user_id|\n",
      "+---------+------------------+----------+------------------------+----------------+------------------+--------+--------------------+------+--------+--------------+--------------------------+-----------------+\n",
      "|    macOS|{null, null, null}|  add_item|        1593878792892652|1593878815459100|     {Salinas, CA}|M_STAN_T|Standard Twin Mat...| 595.0|       1|       youtube|          1593878455472030|UA000000107375547|\n",
      "|  Android|{null, null, null}|      cart|        1593878887634182|1593878899159806|{Fayetteville, AR}|M_STAN_F|Standard Full Mat...| 945.0|       1|        google|          1593877484784180|UA000000107366779|\n",
      "|  Windows|{null, null, null}|      cart|        1593878838199623|1593879003979444|      {Topeka, KS}|M_PREM_T|Premium Twin Matt...|1095.0|       1|        direct|          1593878302525160|UA000000107374215|\n",
      "|  Android|{null, null, null}|  checkout|        1593879068779767|1593879230950221|{Philadelphia, PA}|M_STAN_K|Standard King Mat...|1195.0|       1|      facebook|          1593878282510044|UA000000107374020|\n",
      "|    macOS|{null, null, null}|      cart|        1593877089254852|1593877376501740|      {Dallas, TX}|M_STAN_K|Standard King Mat...|1195.0|       1|       youtube|          1593876928163485|UA000000107361649|\n",
      "|    Linux|{null, null, null}|  add_item|        1593877045351670|1593878675942469|     {Seattle, WA}|M_STAN_Q|Standard Queen Ma...|1045.0|       1|        google|          1593876761651018|UA000000107360196|\n",
      "|  Android|{null, null, null}|  add_item|        1593879005037778|1593879138472812| {Lake Forest, CA}|M_STAN_K|Standard King Mat...|1195.0|       1|        direct|          1593879005037778|UA000000107380441|\n",
      "|  Android|{null, null, null}|      cart|        1593878450150430|1593878826433752|  {Hinesville, GA}|M_PREM_T|Premium Twin Matt...|1095.0|       1|       youtube|          1593876964622338|UA000000107361970|\n",
      "|  Android|{null, null, null}|      cart|        1593878450150430|1593878826433752|  {Hinesville, GA}|P_FOAM_K|    King Foam Pillow|  79.0|       1|       youtube|          1593876964622338|UA000000107361970|\n",
      "|      iOS|{null, null, null}|  register|        1593878974036647|1593879116208649|    {Bellevue, WA}|M_STAN_F|Standard Full Mat...| 945.0|       1|        direct|          1593877662034756|UA000000107368410|\n",
      "|    macOS|{null, null, null}|  checkout|        1593877849522918|1593877871752279| {Sun Prairie, WI}|M_STAN_K|Standard King Mat...|1195.0|       1|      facebook|          1593877754145339|UA000000107369252|\n",
      "|    macOS|{null, null, null}|  add_item|        1593878747637640|1593878872298444|     {Spokane, WA}|M_STAN_Q|Standard Queen Ma...|1045.0|       1|        google|          1593878713478017|UA000000107377843|\n",
      "|Chrome OS|{null, null, null}|  add_item|        1593878371393415|1593878426477352|     {Phoenix, AZ}|M_STAN_K|Standard King Mat...|1195.0|       1|        google|          1593876947217704|UA000000107361826|\n",
      "|  Android|{null, null, null}|     guest|        1593878510582920|1593878513487688|      {Waupun, WI}|M_STAN_K|Standard King Mat...|1195.0|       1|        google|          1593878083318605|UA000000107372186|\n",
      "|    macOS|{null, null, null}|     guest|        1593879068645602|1593879174364993| {Los Angeles, CA}|M_STAN_Q|Standard Queen Ma...|1045.0|       1|        google|          1593878486475831|UA000000107375805|\n",
      "|  Windows|{null, null, null}|  add_item|        1593877190105860|1593877202786162| {Los Angeles, CA}|M_STAN_F|Standard Full Mat...| 945.0|       1|       youtube|          1593876947388608|UA000000107361827|\n",
      "|    macOS|{null, null, null}|      cart|        1593877122323165|1593877878043590|     {Reading, PA}|M_PREM_T|Premium Twin Matt...|1095.0|       1|        direct|          1593877119645670|UA000000107363382|\n",
      "|    macOS|{null, null, null}|     guest|        1593878206879066|1593878252433525|     {Lincoln, NE}|M_STAN_K|Standard King Mat...|1195.0|       1|        google|          1593877221380744|UA000000107364350|\n",
      "|  Windows|{null, null, null}|  add_item|        1593876682856114|1593877660687388|    {New York, NY}|M_PREM_K|Premium King Matt...|1995.0|       1|         email|          1593876682856114|UA000000107359535|\n",
      "|      iOS|{null, null, null}|  add_item|        1593877868268844|1593878009367960|   {Hollywood, FL}|M_STAN_Q|Standard Queen Ma...|1045.0|       1|     instagram|          1593877868268844|UA000000107370279|\n",
      "+---------+------------------+----------+------------------------+----------------+------------------+--------+--------------------+------+--------+--------------+--------------------------+-----------------+\n",
      "only showing top 20 rows\n",
      "\n"
     ]
    }
   ],
   "source": [
    "from pyspark.sql.functions import col, explode\n",
    "\n",
    "# Extract relevant columns and transform the data\n",
    "revenueDF = eventsDF.select(\n",
    "    col(\"device\"),\n",
    "    col(\"ecommerce\"),\n",
    "    col(\"event_name\"),\n",
    "    col(\"event_previous_timestamp\"),\n",
    "    col(\"event_timestamp\"),\n",
    "    col(\"geo\"),\n",
    "    explode(col(\"items\")).alias(\"item\"),\n",
    "    col(\"traffic_source\"),\n",
    "    col(\"user_first_touch_timestamp\"),\n",
    "    col(\"user_id\")\n",
    ").select(\n",
    "    col(\"device\"),\n",
    "    col(\"ecommerce\"),\n",
    "    col(\"event_name\"),\n",
    "    col(\"event_previous_timestamp\"),\n",
    "    col(\"event_timestamp\"),\n",
    "    col(\"geo\"),\n",
    "    col(\"item.item_id\").alias(\"item_id\"),\n",
    "    col(\"item.item_name\").alias(\"item_name\"),\n",
    "    col(\"item.item_revenue_in_usd\").alias(\"price\"),\n",
    "    col(\"item.quantity\").alias(\"quantity\"),\n",
    "    col(\"traffic_source\"),\n",
    "    col(\"user_first_touch_timestamp\"),\n",
    "    col(\"user_id\")\n",
    ")\n",
    "\n",
    "# Show the resulting DataFrame\n",
    "revenueDF.show()\n"
   ]
  },
  {
   "cell_type": "raw",
   "id": "3f81a7b2",
   "metadata": {},
   "source": [
    "2. Filtrer les événements dont le revenu n'est pas null"
   ]
  },
  {
   "cell_type": "code",
   "execution_count": 12,
   "id": "4eeff559",
   "metadata": {},
   "outputs": [
    {
     "name": "stdout",
     "output_type": "stream",
     "text": [
      "+---------+------------------+----------+------------------------+----------------+------------------+--------+--------------------+------+--------+--------------+--------------------------+-----------------+\n",
      "|   device|         ecommerce|event_name|event_previous_timestamp| event_timestamp|               geo| item_id|           item_name| price|quantity|traffic_source|user_first_touch_timestamp|          user_id|\n",
      "+---------+------------------+----------+------------------------+----------------+------------------+--------+--------------------+------+--------+--------------+--------------------------+-----------------+\n",
      "|    macOS|{null, null, null}|  add_item|        1593878792892652|1593878815459100|     {Salinas, CA}|M_STAN_T|Standard Twin Mat...| 595.0|       1|       youtube|          1593878455472030|UA000000107375547|\n",
      "|  Android|{null, null, null}|      cart|        1593878887634182|1593878899159806|{Fayetteville, AR}|M_STAN_F|Standard Full Mat...| 945.0|       1|        google|          1593877484784180|UA000000107366779|\n",
      "|  Windows|{null, null, null}|      cart|        1593878838199623|1593879003979444|      {Topeka, KS}|M_PREM_T|Premium Twin Matt...|1095.0|       1|        direct|          1593878302525160|UA000000107374215|\n",
      "|  Android|{null, null, null}|  checkout|        1593879068779767|1593879230950221|{Philadelphia, PA}|M_STAN_K|Standard King Mat...|1195.0|       1|      facebook|          1593878282510044|UA000000107374020|\n",
      "|    macOS|{null, null, null}|      cart|        1593877089254852|1593877376501740|      {Dallas, TX}|M_STAN_K|Standard King Mat...|1195.0|       1|       youtube|          1593876928163485|UA000000107361649|\n",
      "|    Linux|{null, null, null}|  add_item|        1593877045351670|1593878675942469|     {Seattle, WA}|M_STAN_Q|Standard Queen Ma...|1045.0|       1|        google|          1593876761651018|UA000000107360196|\n",
      "|  Android|{null, null, null}|  add_item|        1593879005037778|1593879138472812| {Lake Forest, CA}|M_STAN_K|Standard King Mat...|1195.0|       1|        direct|          1593879005037778|UA000000107380441|\n",
      "|  Android|{null, null, null}|      cart|        1593878450150430|1593878826433752|  {Hinesville, GA}|M_PREM_T|Premium Twin Matt...|1095.0|       1|       youtube|          1593876964622338|UA000000107361970|\n",
      "|  Android|{null, null, null}|      cart|        1593878450150430|1593878826433752|  {Hinesville, GA}|P_FOAM_K|    King Foam Pillow|  79.0|       1|       youtube|          1593876964622338|UA000000107361970|\n",
      "|      iOS|{null, null, null}|  register|        1593878974036647|1593879116208649|    {Bellevue, WA}|M_STAN_F|Standard Full Mat...| 945.0|       1|        direct|          1593877662034756|UA000000107368410|\n",
      "|    macOS|{null, null, null}|  checkout|        1593877849522918|1593877871752279| {Sun Prairie, WI}|M_STAN_K|Standard King Mat...|1195.0|       1|      facebook|          1593877754145339|UA000000107369252|\n",
      "|    macOS|{null, null, null}|  add_item|        1593878747637640|1593878872298444|     {Spokane, WA}|M_STAN_Q|Standard Queen Ma...|1045.0|       1|        google|          1593878713478017|UA000000107377843|\n",
      "|Chrome OS|{null, null, null}|  add_item|        1593878371393415|1593878426477352|     {Phoenix, AZ}|M_STAN_K|Standard King Mat...|1195.0|       1|        google|          1593876947217704|UA000000107361826|\n",
      "|  Android|{null, null, null}|     guest|        1593878510582920|1593878513487688|      {Waupun, WI}|M_STAN_K|Standard King Mat...|1195.0|       1|        google|          1593878083318605|UA000000107372186|\n",
      "|    macOS|{null, null, null}|     guest|        1593879068645602|1593879174364993| {Los Angeles, CA}|M_STAN_Q|Standard Queen Ma...|1045.0|       1|        google|          1593878486475831|UA000000107375805|\n",
      "|  Windows|{null, null, null}|  add_item|        1593877190105860|1593877202786162| {Los Angeles, CA}|M_STAN_F|Standard Full Mat...| 945.0|       1|       youtube|          1593876947388608|UA000000107361827|\n",
      "|    macOS|{null, null, null}|      cart|        1593877122323165|1593877878043590|     {Reading, PA}|M_PREM_T|Premium Twin Matt...|1095.0|       1|        direct|          1593877119645670|UA000000107363382|\n",
      "|    macOS|{null, null, null}|     guest|        1593878206879066|1593878252433525|     {Lincoln, NE}|M_STAN_K|Standard King Mat...|1195.0|       1|        google|          1593877221380744|UA000000107364350|\n",
      "|  Windows|{null, null, null}|  add_item|        1593876682856114|1593877660687388|    {New York, NY}|M_PREM_K|Premium King Matt...|1995.0|       1|         email|          1593876682856114|UA000000107359535|\n",
      "|      iOS|{null, null, null}|  add_item|        1593877868268844|1593878009367960|   {Hollywood, FL}|M_STAN_Q|Standard Queen Ma...|1045.0|       1|     instagram|          1593877868268844|UA000000107370279|\n",
      "+---------+------------------+----------+------------------------+----------------+------------------+--------+--------------------+------+--------+--------------+--------------------------+-----------------+\n",
      "only showing top 20 rows\n",
      "\n"
     ]
    }
   ],
   "source": [
    "from pyspark.sql.functions import col\n",
    "\n",
    "# Convert the data type of the 'price' column from string to float\n",
    "purchasesDF = revenueDF.withColumn('price', col('price').cast('float'))\n",
    "\n",
    "# Show the resulting DataFrame\n",
    "purchasesDF.show()\n"
   ]
  },
  {
   "cell_type": "raw",
   "id": "029810d8",
   "metadata": {},
   "source": [
    "3. Vérifiez quels sont les types d'événements qui génèrent des revenus"
   ]
  },
  {
   "cell_type": "code",
   "execution_count": 16,
   "id": "195e92c7",
   "metadata": {},
   "outputs": [
    {
     "name": "stderr",
     "output_type": "stream",
     "text": [
      "\r",
      "[Stage 4:>                                                          (0 + 1) / 1]\r"
     ]
    },
    {
     "name": "stdout",
     "output_type": "stream",
     "text": [
      "+---------+------------------+-------------+------------------------+----------------+--------------------+--------+--------------------+------+--------+--------------+--------------------------+-----------------+\n",
      "|   device|         ecommerce|   event_name|event_previous_timestamp| event_timestamp|                 geo| item_id|           item_name| price|quantity|traffic_source|user_first_touch_timestamp|          user_id|\n",
      "+---------+------------------+-------------+------------------------+----------------+--------------------+--------+--------------------+------+--------+--------------+--------------------------+-----------------+\n",
      "|    macOS|{null, null, null}|     register|        1593877536537378|1593877547247035|     {Salisbury, MD}|M_STAN_T|Standard Twin Mat...| 595.0|       1|        direct|          1593877272789441|UA000000107364830|\n",
      "|    macOS|{null, null, null}|     add_item|        1593876710692540|1593878204108355|       {Edmonds, WA}|M_STAN_F|Standard Full Mat...| 945.0|       1|        google|          1593876710692540|UA000000107359782|\n",
      "|  Android|{null, null, null}|shipping_info|        1593816647417589|1593817702785190|      {Columbus, GA}|P_FOAM_K|    King Foam Pillow|  71.1|       1|         email|          1593878530007772|UA000000107376208|\n",
      "|    macOS|{null, null, null}|     add_item|        1593427567888249|1593428737883019|     {Las Vegas, NV}|M_STAN_Q|Standard Queen Ma...|1045.0|       1|       youtube|          1593425881946363|UA000000105992638|\n",
      "|      iOS|{null, null, null}|        login|        1593436371340500|1593436830011587|        {Denver, CO}|M_PREM_F|Premium Full Matt...|1695.0|       1|        direct|          1593434364767103|UA000000106013198|\n",
      "|      iOS|{null, null, null}|     register|        1593426834627682|1593427090210966|    {Clearwater, FL}|M_STAN_K|Standard King Mat...|1195.0|       1|      facebook|          1593422660013677|UA000000105988465|\n",
      "|    Linux|{null, null, null}|         cart|        1593660315706387|1593660328984710|        {Laredo, TX}|M_STAN_F|Standard Full Mat...| 850.5|       1|         email|          1593398791482692|UA000000105978974|\n",
      "|    macOS|{null, null, null}|     add_item|        1593443626135553|1593444965311361|      {Columbus, OH}|M_STAN_Q|Standard Queen Ma...|1045.0|       1|        google|          1593443626135553|UA000000106054180|\n",
      "|    macOS|{null, null, null}|     add_item|        1593878776191565|1593878959640014|   {Weatherford, TX}|M_PREM_F|Premium Full Matt...|1695.0|       1|        google|          1593878776191565|UA000000107378392|\n",
      "|  Android|{null, null, null}|     checkout|        1593877208732569|1593877214434324|      {New York, NY}|M_PREM_T|Premium Twin Matt...|1095.0|       1|        google|          1593876648404521|UA000000107359237|\n",
      "|      iOS|{null, null, null}|     add_item|        1593876927226150|1593876995525535|   {Chula Vista, CA}|M_STAN_F|Standard Full Mat...| 945.0|       1|        google|          1593876927226150|UA000000107361642|\n",
      "|    Linux|{null, null, null}|     checkout|        1593878009217899|1593878024427648|     {Harlingen, TX}|M_STAN_K|Standard King Mat...|1195.0|       1|      facebook|          1593877638881999|UA000000107368180|\n",
      "|    macOS|    {1640.0, 2, 2}|     finalize|        1593436589297426|1593436628314991|{St. Petersburg, FL}|M_STAN_T|Standard Twin Mat...| 595.0|       1|      facebook|          1593433771174842|UA000000106011218|\n",
      "|  Android|{null, null, null}|     checkout|        1593777057704846|1593777226976915|  {Roeland Park, KS}|M_PREM_K|Premium King Matt...|1795.5|       1|         email|          1593384714225873|UA000000105960169|\n",
      "|Chrome OS|{null, null, null}|shipping_info|        1593593873435546|1593594658764440|       {El Reno, OK}|M_STAN_T|Standard Twin Mat...| 535.5|       1|         email|          1593439245420818|UA000000106032516|\n",
      "|    Linux|{null, null, null}|     checkout|        1593560036489869|1593560366914809|    {Fort Wayne, IN}|M_PREM_K|Premium King Matt...|1795.5|       1|         email|          1593384339856855|UA000000105959175|\n",
      "|      iOS|{null, null, null}|     checkout|        1593443062331257|1593443876825831|        {Durham, NC}|M_PREM_T|Premium Twin Matt...|1095.0|       1|      facebook|          1593440022634138|UA000000106036097|\n",
      "|    Linux|{null, null, null}|      cc_info|        1593878168592913|1593878186807773| {Oklahoma City, OK}|M_STAN_K|Standard King Mat...|1195.0|       1|     instagram|          1593876836242441|UA000000107360895|\n",
      "|      iOS|{null, null, null}|      cc_info|        1593436961469425|1593437052860747|       {Payette, ID}|M_PREM_K|Premium King Matt...|1995.0|       1|     instagram|          1593435935415310|UA000000106018752|\n",
      "|Chrome OS|{null, null, null}|shipping_info|        1593436882608360|1593436941427757|      {McKinney, TX}|M_STAN_T|Standard Twin Mat...| 595.0|       1|        google|          1593435673807029|UA000000106017831|\n",
      "+---------+------------------+-------------+------------------------+----------------+--------------------+--------+--------------------+------+--------+--------------+--------------------------+-----------------+\n",
      "only showing top 20 rows\n",
      "\n"
     ]
    },
    {
     "name": "stderr",
     "output_type": "stream",
     "text": [
      "\r",
      "                                                                                \r"
     ]
    }
   ],
   "source": [
    "from pyspark.sql.functions import col\n",
    "\n",
    "distinctDF = purchasesDF.dropDuplicates(['device', 'ecommerce', 'event_name', 'event_previous_timestamp', 'event_timestamp', 'geo', 'item_id', 'item_name', 'price', 'quantity', 'traffic_source', 'user_first_touch_timestamp', 'user_id'])\n",
    "\n",
    "distinctDF.show()\n"
   ]
  },
  {
   "cell_type": "raw",
   "id": "7a3ee09e",
   "metadata": {},
   "source": [
    "4. Supprimez la colonne inutile"
   ]
  },
  {
   "cell_type": "code",
   "execution_count": 17,
   "id": "dd9a6495",
   "metadata": {},
   "outputs": [
    {
     "name": "stdout",
     "output_type": "stream",
     "text": [
      "+---------+------------------+----------+------------------------+----------------+------------------+--------+--------------------+------+--------+--------------+--------------------------+-----------------+\n",
      "|   device|         ecommerce|event_name|event_previous_timestamp| event_timestamp|               geo| item_id|           item_name| price|quantity|traffic_source|user_first_touch_timestamp|          user_id|\n",
      "+---------+------------------+----------+------------------------+----------------+------------------+--------+--------------------+------+--------+--------------+--------------------------+-----------------+\n",
      "|    macOS|{null, null, null}|  add_item|        1593878792892652|1593878815459100|     {Salinas, CA}|M_STAN_T|Standard Twin Mat...| 595.0|       1|       youtube|          1593878455472030|UA000000107375547|\n",
      "|  Android|{null, null, null}|      cart|        1593878887634182|1593878899159806|{Fayetteville, AR}|M_STAN_F|Standard Full Mat...| 945.0|       1|        google|          1593877484784180|UA000000107366779|\n",
      "|  Windows|{null, null, null}|      cart|        1593878838199623|1593879003979444|      {Topeka, KS}|M_PREM_T|Premium Twin Matt...|1095.0|       1|        direct|          1593878302525160|UA000000107374215|\n",
      "|  Android|{null, null, null}|  checkout|        1593879068779767|1593879230950221|{Philadelphia, PA}|M_STAN_K|Standard King Mat...|1195.0|       1|      facebook|          1593878282510044|UA000000107374020|\n",
      "|    macOS|{null, null, null}|      cart|        1593877089254852|1593877376501740|      {Dallas, TX}|M_STAN_K|Standard King Mat...|1195.0|       1|       youtube|          1593876928163485|UA000000107361649|\n",
      "|    Linux|{null, null, null}|  add_item|        1593877045351670|1593878675942469|     {Seattle, WA}|M_STAN_Q|Standard Queen Ma...|1045.0|       1|        google|          1593876761651018|UA000000107360196|\n",
      "|  Android|{null, null, null}|  add_item|        1593879005037778|1593879138472812| {Lake Forest, CA}|M_STAN_K|Standard King Mat...|1195.0|       1|        direct|          1593879005037778|UA000000107380441|\n",
      "|  Android|{null, null, null}|      cart|        1593878450150430|1593878826433752|  {Hinesville, GA}|M_PREM_T|Premium Twin Matt...|1095.0|       1|       youtube|          1593876964622338|UA000000107361970|\n",
      "|  Android|{null, null, null}|      cart|        1593878450150430|1593878826433752|  {Hinesville, GA}|P_FOAM_K|    King Foam Pillow|  79.0|       1|       youtube|          1593876964622338|UA000000107361970|\n",
      "|      iOS|{null, null, null}|  register|        1593878974036647|1593879116208649|    {Bellevue, WA}|M_STAN_F|Standard Full Mat...| 945.0|       1|        direct|          1593877662034756|UA000000107368410|\n",
      "|    macOS|{null, null, null}|  checkout|        1593877849522918|1593877871752279| {Sun Prairie, WI}|M_STAN_K|Standard King Mat...|1195.0|       1|      facebook|          1593877754145339|UA000000107369252|\n",
      "|    macOS|{null, null, null}|  add_item|        1593878747637640|1593878872298444|     {Spokane, WA}|M_STAN_Q|Standard Queen Ma...|1045.0|       1|        google|          1593878713478017|UA000000107377843|\n",
      "|Chrome OS|{null, null, null}|  add_item|        1593878371393415|1593878426477352|     {Phoenix, AZ}|M_STAN_K|Standard King Mat...|1195.0|       1|        google|          1593876947217704|UA000000107361826|\n",
      "|  Android|{null, null, null}|     guest|        1593878510582920|1593878513487688|      {Waupun, WI}|M_STAN_K|Standard King Mat...|1195.0|       1|        google|          1593878083318605|UA000000107372186|\n",
      "|    macOS|{null, null, null}|     guest|        1593879068645602|1593879174364993| {Los Angeles, CA}|M_STAN_Q|Standard Queen Ma...|1045.0|       1|        google|          1593878486475831|UA000000107375805|\n",
      "|  Windows|{null, null, null}|  add_item|        1593877190105860|1593877202786162| {Los Angeles, CA}|M_STAN_F|Standard Full Mat...| 945.0|       1|       youtube|          1593876947388608|UA000000107361827|\n",
      "|    macOS|{null, null, null}|      cart|        1593877122323165|1593877878043590|     {Reading, PA}|M_PREM_T|Premium Twin Matt...|1095.0|       1|        direct|          1593877119645670|UA000000107363382|\n",
      "|    macOS|{null, null, null}|     guest|        1593878206879066|1593878252433525|     {Lincoln, NE}|M_STAN_K|Standard King Mat...|1195.0|       1|        google|          1593877221380744|UA000000107364350|\n",
      "|  Windows|{null, null, null}|  add_item|        1593876682856114|1593877660687388|    {New York, NY}|M_PREM_K|Premium King Matt...|1995.0|       1|         email|          1593876682856114|UA000000107359535|\n",
      "|      iOS|{null, null, null}|  add_item|        1593877868268844|1593878009367960|   {Hollywood, FL}|M_STAN_Q|Standard Queen Ma...|1045.0|       1|     instagram|          1593877868268844|UA000000107370279|\n",
      "+---------+------------------+----------+------------------------+----------------+------------------+--------+--------------------+------+--------+--------------+--------------------------+-----------------+\n",
      "only showing top 20 rows\n",
      "\n"
     ]
    }
   ],
   "source": [
    "from pyspark.sql.functions import col\n",
    "\n",
    "cleanDF = purchasesDF.filter(col(\"device\").isNotNull() & col(\"ecommerce\").isNotNull() & col(\"event_name\").isNotNull() & col(\"event_previous_timestamp\").isNotNull() & col(\"event_timestamp\").isNotNull() & col(\"geo\").isNotNull() & col(\"item_id\").isNotNull() & col(\"item_name\").isNotNull() & col(\"price\").isNotNull() & col(\"quantity\").isNotNull() & col(\"traffic_source\").isNotNull() & col(\"user_first_touch_timestamp\").isNotNull() & col(\"user_id\").isNotNull())\n",
    "\n",
    "cleanDF.show()\n"
   ]
  },
  {
   "cell_type": "raw",
   "id": "ae3b36f2",
   "metadata": {},
   "source": [
    "5. Revenus cumulés par source de trafic"
   ]
  },
  {
   "cell_type": "code",
   "execution_count": 19,
   "id": "d91ff21c",
   "metadata": {},
   "outputs": [
    {
     "name": "stderr",
     "output_type": "stream",
     "text": [
      "\r",
      "[Stage 8:>                                                          (0 + 1) / 1]\r"
     ]
    },
    {
     "name": "stdout",
     "output_type": "stream",
     "text": [
      "+-------+------------------+-------------+------------------------+----------------+--------------------+--------+--------------------+--------------+--------------------------+-----------------+---------+-------+\n",
      "| device|         ecommerce|   event_name|event_previous_timestamp| event_timestamp|                 geo| item_id|           item_name|traffic_source|user_first_touch_timestamp|          user_id|total_rev|avg_rev|\n",
      "+-------+------------------+-------------+------------------------+----------------+--------------------+--------+--------------------+--------------+--------------------------+-----------------+---------+-------+\n",
      "|  macOS|{null, null, null}|     checkout|        1593877025280682|1593878219791606|  {Eden Prairie, MN}|M_STAN_T|Standard Twin Mat...|     instagram|          1593876442539386|UA000000107357470|   2380.0| 2380.0|\n",
      "|Windows|{null, null, null}|      cc_info|        1593799634298217|1593799703513611|      {McKinney, TX}|M_STAN_Q|Standard Queen Ma...|         email|          1593442185862830|UA000000106046589|    940.5|  940.5|\n",
      "|    iOS|{null, null, null}|         cart|        1593440261335828|1593441029183354|     {Grapevine, TX}|M_PREM_T|Premium Twin Matt...|        google|          1593439949245435|UA000000106035773|   1095.0| 1095.0|\n",
      "|    iOS|{null, null, null}|         cart|        1593433867943075|1593434057511667|    {Lauderhill, FL}|M_STAN_Q|Standard Queen Ma...|        google|          1593433575756217|UA000000106010595|   1045.0| 1045.0|\n",
      "|  Linux|{null, null, null}|      cc_info|        1593729700045987|1593729778010931|        {Orinda, CA}|M_STAN_K|Standard King Mat...|         email|          1593435700847365|UA000000106017929|   1075.5| 1075.5|\n",
      "|Windows|{null, null, null}|        guest|        1593669631915748|1593670344047123|       {Oakland, CA}|M_PREM_Q|Premium Queen Mat...|         email|          1593439789333494|UA000000106035052|   1615.5| 1615.5|\n",
      "|Android|{null, null, null}|     checkout|        1593879068779767|1593879230950221|  {Philadelphia, PA}|M_STAN_K|Standard King Mat...|      facebook|          1593878282510044|UA000000107374020|   1195.0| 1195.0|\n",
      "|Android|{null, null, null}|     add_item|        1593876769559278|1593876847791281|      {New York, NY}|M_PREM_K|Premium King Matt...|        google|          1593876769559278|UA000000107360271|   1995.0| 1995.0|\n",
      "|    iOS|{null, null, null}|         cart|        1593877029742324|1593877236357688|  {Brigham City, UT}|M_STAN_F|Standard Full Mat...|     instagram|          1593876805562250|UA000000107360586|    945.0|  945.0|\n",
      "|    iOS|{null, null, null}|         cart|        1593877221300853|1593877578498589|     {Fruitland, ID}|M_STAN_Q|Standard Queen Ma...|        google|          1593876795107873|UA000000107360497|   1045.0| 1045.0|\n",
      "|Windows|{null, null, null}|     checkout|        1593429986943278|1593430000388830|     {Pensacola, FL}|M_PREM_T|Premium Twin Matt...|      facebook|          1593429956337168|UA000000106000620|   1095.0| 1095.0|\n",
      "|    iOS|{null, null, null}|         cart|        1593435077623009|1593435114802038|      {Granbury, TX}|M_STAN_K|Standard King Mat...|        google|          1593434340122557|UA000000106013117|   1195.0| 1195.0|\n",
      "|Android|{null, null, null}|     checkout|        1593445899020774|1593446093842606|     {Las Vegas, NV}|M_STAN_Q|Standard Queen Ma...|        google|          1593443910208916|UA000000106055714|   1045.0| 1045.0|\n",
      "|  macOS|{null, null, null}|         cart|        1593389529482846|1593389669656458|      {Beaumont, TX}|M_STAN_Q|Standard Queen Ma...|       youtube|          1593387736945747|UA000000105967093|   1045.0| 1045.0|\n",
      "|Android|{null, null, null}|shipping_info|        1593437077820498|1593437239474455|         {Ocala, FL}|M_STAN_T|Standard Twin Mat...|     instagram|          1593435072479472|UA000000106015673|    595.0|  595.0|\n",
      "|Android|{null, null, null}|         cart|        1593424870245877|1593425800146597|{New Martinsville...|M_STAN_F|Standard Full Mat...|       youtube|          1593423958940717|UA000000105989941|    945.0|  945.0|\n",
      "|Windows|{null, null, null}|     checkout|        1593396104252503|1593396640646691|     {Cambridge, MA}|P_DOWN_S|Standard Down Pillow|        direct|          1593395735975621|UA000000105977201|    119.0|  119.0|\n",
      "|Android|{null, null, null}|shipping_info|        1593443914462218|1593444502319362|{Falcon Heights, MN}|M_STAN_Q|Standard Queen Ma...|        google|          1593440999904851|UA000000106040787|   1045.0| 1045.0|\n",
      "|  macOS|{null, null, null}|     add_item|        1593438799891584|1593441343154776|        {Novato, CA}|M_STAN_K|Standard King Mat...|        google|          1593438799891584|UA000000106030602|   1195.0| 1195.0|\n",
      "|Android|{null, null, null}|     register|        1593443749751782|1593444484703058|       {Chicago, IL}|M_PREM_T|Premium Twin Matt...|      facebook|          1593439641779402|UA000000106034382|   1095.0| 1095.0|\n",
      "+-------+------------------+-------------+------------------------+----------------+--------------------+--------+--------------------+--------------+--------------------------+-----------------+---------+-------+\n",
      "only showing top 20 rows\n",
      "\n"
     ]
    },
    {
     "name": "stderr",
     "output_type": "stream",
     "text": [
      "\r",
      "                                                                                \r"
     ]
    }
   ],
   "source": [
    "from pyspark.sql.functions import col, sum, avg\n",
    "\n",
    "trafficDF = cleanDF.groupBy(\"device\", \"ecommerce\", \"event_name\", \"event_previous_timestamp\",\n",
    "                            \"event_timestamp\", \"geo\", \"item_id\", \"item_name\", \"traffic_source\",\n",
    "                            \"user_first_touch_timestamp\", \"user_id\"\n",
    "                           ).agg(sum(col(\"price\") * col(\"quantity\")).alias(\"total_rev\"),\n",
    "                                  avg(col(\"price\") * col(\"quantity\")).alias(\"avg_rev\")\n",
    "                                 )\n",
    "\n",
    "trafficDF.show()\n"
   ]
  },
  {
   "cell_type": "raw",
   "id": "b5e6c0b6",
   "metadata": {},
   "source": [
    "6.Obtenir les cinqs principales sources de trafic par revenu total"
   ]
  },
  {
   "cell_type": "code",
   "execution_count": 20,
   "id": "8a60dd1d",
   "metadata": {},
   "outputs": [
    {
     "name": "stdout",
     "output_type": "stream",
     "text": [
      "+---------+------------------+-------------+------------------------+----------------+-------------------+--------+--------------------+--------------+--------------------------+-----------------+---------+-------+\n",
      "|   device|         ecommerce|   event_name|event_previous_timestamp| event_timestamp|                geo| item_id|           item_name|traffic_source|user_first_touch_timestamp|          user_id|total_rev|avg_rev|\n",
      "+---------+------------------+-------------+------------------------+----------------+-------------------+--------+--------------------+--------------+--------------------------+-----------------+---------+-------+\n",
      "|  Windows|{null, null, null}|     add_item|        1593684004933192|1593684007001066|{National City, CA}|M_PREM_F|Premium Full Matt...|         email|          1593438651248551|UA000000106029951|   6102.0| 6102.0|\n",
      "|      iOS|{null, null, null}|     checkout|        1593392493331752|1593392616382708|  {San Leandro, CA}|M_STAN_K|Standard King Mat...|        google|          1593389448942264|UA000000105970134|   4780.0| 4780.0|\n",
      "|      iOS|{null, null, null}|     add_item|        1593877344330673|1593878352314740|     {Mesquite, TX}|M_STAN_K|Standard King Mat...|        google|          1593877299874862|UA000000107365058|   4780.0| 4780.0|\n",
      "|  Android|{null, null, null}|         cart|        1593441746794523|1593441832492949|     {Portland, OR}|M_STAN_K|Standard King Mat...|     instagram|          1593441113583324|UA000000106041339|   4780.0| 4780.0|\n",
      "|Chrome OS|{null, null, null}|shipping_info|        1593878964960932|1593878996629398|     {McKinney, TX}|M_STAN_K|Standard King Mat...|      facebook|          1593878815828502|UA000000107378753|   4780.0| 4780.0|\n",
      "+---------+------------------+-------------+------------------------+----------------+-------------------+--------+--------------------+--------------+--------------------------+-----------------+---------+-------+\n",
      "\n"
     ]
    }
   ],
   "source": [
    "from pyspark.sql.functions import desc\n",
    "\n",
    "topTrafficDF = trafficDF.orderBy(desc(\"total_rev\")).limit(5)\n",
    "\n",
    "topTrafficDF.show()\n"
   ]
  },
  {
   "cell_type": "raw",
   "id": "f4b95d83",
   "metadata": {},
   "source": [
    "7. Limitez les colonnes de revenus à deux décimales pointés"
   ]
  },
  {
   "cell_type": "code",
   "execution_count": 21,
   "id": "4f272abe",
   "metadata": {},
   "outputs": [
    {
     "name": "stderr",
     "output_type": "stream",
     "text": [
      "\r",
      "[Stage 14:>                                                         (0 + 1) / 1]\r"
     ]
    },
    {
     "name": "stdout",
     "output_type": "stream",
     "text": [
      "+---------+------------------+-------------+------------------------+----------------+-------------------+--------+--------------------+--------------+--------------------------+-----------------+---------+-------+\n",
      "|   device|         ecommerce|   event_name|event_previous_timestamp| event_timestamp|                geo| item_id|           item_name|traffic_source|user_first_touch_timestamp|          user_id|total_rev|avg_rev|\n",
      "+---------+------------------+-------------+------------------------+----------------+-------------------+--------+--------------------+--------------+--------------------------+-----------------+---------+-------+\n",
      "|  Windows|{null, null, null}|     add_item|        1593684004933192|1593684007001066|{National City, CA}|M_PREM_F|Premium Full Matt...|         email|          1593438651248551|UA000000106029951|   6102.0| 6102.0|\n",
      "|      iOS|{null, null, null}|     checkout|        1593392493331752|1593392616382708|  {San Leandro, CA}|M_STAN_K|Standard King Mat...|        google|          1593389448942264|UA000000105970134|   4780.0| 4780.0|\n",
      "|      iOS|{null, null, null}|     add_item|        1593877344330673|1593878352314740|     {Mesquite, TX}|M_STAN_K|Standard King Mat...|        google|          1593877299874862|UA000000107365058|   4780.0| 4780.0|\n",
      "|  Android|{null, null, null}|         cart|        1593441746794523|1593441832492949|     {Portland, OR}|M_STAN_K|Standard King Mat...|     instagram|          1593441113583324|UA000000106041339|   4780.0| 4780.0|\n",
      "|Chrome OS|{null, null, null}|shipping_info|        1593878964960932|1593878996629398|     {McKinney, TX}|M_STAN_K|Standard King Mat...|      facebook|          1593878815828502|UA000000107378753|   4780.0| 4780.0|\n",
      "+---------+------------------+-------------+------------------------+----------------+-------------------+--------+--------------------+--------------+--------------------------+-----------------+---------+-------+\n",
      "\n"
     ]
    },
    {
     "name": "stderr",
     "output_type": "stream",
     "text": [
      "\r",
      "                                                                                \r"
     ]
    }
   ],
   "source": [
    "from pyspark.sql.functions import round\n",
    "\n",
    "finalDF = topTrafficDF.withColumn(\"total_rev\", round(\"total_rev\", 2))\n",
    "finalDF = finalDF.withColumn(\"avg_rev\", round(\"avg_rev\", 2))\n",
    "\n",
    "finalDF.show()\n"
   ]
  },
  {
   "cell_type": "raw",
   "id": "fb1d2f57",
   "metadata": {},
   "source": [
    "8. Sauvegarder les données\n"
   ]
  },
  {
   "cell_type": "code",
   "execution_count": 23,
   "id": "77849898",
   "metadata": {},
   "outputs": [
    {
     "name": "stderr",
     "output_type": "stream",
     "text": [
      "                                                                                \r"
     ]
    }
   ],
   "source": [
    "\n",
    "finalDF.write.mode(\"overwrite\").parquet(\"/Users/mac/big-data/final/\")\n"
   ]
  },
  {
   "cell_type": "code",
   "execution_count": 25,
   "id": "1d63f62b",
   "metadata": {},
   "outputs": [
    {
     "ename": "SyntaxError",
     "evalue": "invalid syntax (2835759911.py, line 1)",
     "output_type": "error",
     "traceback": [
      "\u001b[0;36m  Input \u001b[0;32mIn [25]\u001b[0;36m\u001b[0m\n\u001b[0;31m    git init.\u001b[0m\n\u001b[0m        ^\u001b[0m\n\u001b[0;31mSyntaxError\u001b[0m\u001b[0;31m:\u001b[0m invalid syntax\n"
     ]
    }
   ],
   "source": [
    "git init."
   ]
  },
  {
   "cell_type": "code",
   "execution_count": null,
   "id": "05cc744d",
   "metadata": {},
   "outputs": [],
   "source": []
  },
  {
   "cell_type": "code",
   "execution_count": null,
   "id": "309c9989",
   "metadata": {},
   "outputs": [],
   "source": []
  }
 ],
 "metadata": {
  "kernelspec": {
   "display_name": "Python 3 (ipykernel)",
   "language": "python",
   "name": "python3"
  },
  "language_info": {
   "codemirror_mode": {
    "name": "ipython",
    "version": 3
   },
   "file_extension": ".py",
   "mimetype": "text/x-python",
   "name": "python",
   "nbconvert_exporter": "python",
   "pygments_lexer": "ipython3",
   "version": "3.9.12"
  }
 },
 "nbformat": 4,
 "nbformat_minor": 5
}
